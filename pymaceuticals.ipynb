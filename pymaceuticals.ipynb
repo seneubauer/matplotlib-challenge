{
 "cells": [
  {
   "cell_type": "code",
   "execution_count": 1,
   "id": "623a7234",
   "metadata": {},
   "outputs": [],
   "source": [
    "# import dependencies\n",
    "import matplotlib.pyplot as plt\n",
    "import pandas as pd\n",
    "import scipy.stats as st"
   ]
  },
  {
   "cell_type": "code",
   "execution_count": 2,
   "id": "a506e31e",
   "metadata": {},
   "outputs": [],
   "source": [
    "# bring in the data sources\n",
    "mouse_metadata_path = \"data/Mouse_metadata.csv\"\n",
    "study_results_path = \"data/Study_results.csv\"\n",
    "\n",
    "mouse_metadata_df = pd.read_csv(mouse_metadata_path)\n",
    "study_results_df = pd.read_csv(study_results_path)"
   ]
  },
  {
   "cell_type": "code",
   "execution_count": 3,
   "id": "fb45b3b7",
   "metadata": {},
   "outputs": [
    {
     "data": {
      "text/html": [
       "<div>\n",
       "<style scoped>\n",
       "    .dataframe tbody tr th:only-of-type {\n",
       "        vertical-align: middle;\n",
       "    }\n",
       "\n",
       "    .dataframe tbody tr th {\n",
       "        vertical-align: top;\n",
       "    }\n",
       "\n",
       "    .dataframe thead th {\n",
       "        text-align: right;\n",
       "    }\n",
       "</style>\n",
       "<table border=\"1\" class=\"dataframe\">\n",
       "  <thead>\n",
       "    <tr style=\"text-align: right;\">\n",
       "      <th></th>\n",
       "      <th>Mouse ID</th>\n",
       "      <th>Drug Regimen</th>\n",
       "      <th>Sex</th>\n",
       "      <th>Age_months</th>\n",
       "      <th>Weight (g)</th>\n",
       "      <th>Timepoint</th>\n",
       "      <th>Tumor Volume (mm3)</th>\n",
       "      <th>Metastatic Sites</th>\n",
       "    </tr>\n",
       "  </thead>\n",
       "  <tbody>\n",
       "    <tr>\n",
       "      <th>0</th>\n",
       "      <td>k403</td>\n",
       "      <td>Ramicane</td>\n",
       "      <td>Male</td>\n",
       "      <td>21</td>\n",
       "      <td>16</td>\n",
       "      <td>0</td>\n",
       "      <td>45.000000</td>\n",
       "      <td>0</td>\n",
       "    </tr>\n",
       "    <tr>\n",
       "      <th>1</th>\n",
       "      <td>k403</td>\n",
       "      <td>Ramicane</td>\n",
       "      <td>Male</td>\n",
       "      <td>21</td>\n",
       "      <td>16</td>\n",
       "      <td>5</td>\n",
       "      <td>38.825898</td>\n",
       "      <td>0</td>\n",
       "    </tr>\n",
       "    <tr>\n",
       "      <th>2</th>\n",
       "      <td>k403</td>\n",
       "      <td>Ramicane</td>\n",
       "      <td>Male</td>\n",
       "      <td>21</td>\n",
       "      <td>16</td>\n",
       "      <td>10</td>\n",
       "      <td>35.014271</td>\n",
       "      <td>1</td>\n",
       "    </tr>\n",
       "    <tr>\n",
       "      <th>3</th>\n",
       "      <td>k403</td>\n",
       "      <td>Ramicane</td>\n",
       "      <td>Male</td>\n",
       "      <td>21</td>\n",
       "      <td>16</td>\n",
       "      <td>15</td>\n",
       "      <td>34.223992</td>\n",
       "      <td>1</td>\n",
       "    </tr>\n",
       "    <tr>\n",
       "      <th>4</th>\n",
       "      <td>k403</td>\n",
       "      <td>Ramicane</td>\n",
       "      <td>Male</td>\n",
       "      <td>21</td>\n",
       "      <td>16</td>\n",
       "      <td>20</td>\n",
       "      <td>32.997729</td>\n",
       "      <td>1</td>\n",
       "    </tr>\n",
       "  </tbody>\n",
       "</table>\n",
       "</div>"
      ],
      "text/plain": [
       "  Mouse ID Drug Regimen   Sex  Age_months  Weight (g)  Timepoint  \\\n",
       "0     k403     Ramicane  Male          21          16          0   \n",
       "1     k403     Ramicane  Male          21          16          5   \n",
       "2     k403     Ramicane  Male          21          16         10   \n",
       "3     k403     Ramicane  Male          21          16         15   \n",
       "4     k403     Ramicane  Male          21          16         20   \n",
       "\n",
       "   Tumor Volume (mm3)  Metastatic Sites  \n",
       "0           45.000000                 0  \n",
       "1           38.825898                 0  \n",
       "2           35.014271                 1  \n",
       "3           34.223992                 1  \n",
       "4           32.997729                 1  "
      ]
     },
     "execution_count": 3,
     "metadata": {},
     "output_type": "execute_result"
    }
   ],
   "source": [
    "# combine the DataFrames\n",
    "rawData_df = pd.merge(mouse_metadata_df, study_results_df, on='Mouse ID', how='outer')\n",
    "\n",
    "# preview the raw DataFrame\n",
    "rawData_df.head()"
   ]
  },
  {
   "cell_type": "markdown",
   "id": "f7f27fbb",
   "metadata": {},
   "source": [
    "## Prepare the Data"
   ]
  },
  {
   "cell_type": "code",
   "execution_count": 4,
   "id": "15dcaca5",
   "metadata": {},
   "outputs": [
    {
     "name": "stdout",
     "output_type": "stream",
     "text": [
      "The given dataset contains 249 unique instances of Mouse ID.\n"
     ]
    }
   ],
   "source": [
    "# display the count of unique Mouse IDs\n",
    "print(f\"The given dataset contains {rawData_df.nunique()['Mouse ID']} unique instances of Mouse ID.\")"
   ]
  },
  {
   "cell_type": "code",
   "execution_count": 5,
   "id": "cd4ff85b",
   "metadata": {},
   "outputs": [
    {
     "name": "stdout",
     "output_type": "stream",
     "text": [
      "The Mouse ID, g989, contains 2x duplicated Timepoint data.\n",
      "\n",
      "    Mouse ID Drug Regimen     Sex  Age_months  Weight (g)  Timepoint  \\\n",
      "908     g989     Propriva  Female          21          26          0   \n",
      "909     g989     Propriva  Female          21          26          0   \n",
      "910     g989     Propriva  Female          21          26          5   \n",
      "911     g989     Propriva  Female          21          26          5   \n",
      "912     g989     Propriva  Female          21          26         10   \n",
      "\n",
      "     Tumor Volume (mm3)  Metastatic Sites  \n",
      "908           45.000000                 0  \n",
      "909           45.000000                 0  \n",
      "910           48.786801                 0  \n",
      "911           47.570392                 0  \n",
      "912           51.745156                 0  \n"
     ]
    }
   ],
   "source": [
    "# check for duplicated timepoints\n",
    "\n",
    "# create a list of the unique Mouse IDs\n",
    "uniqueMice = rawData_df['Mouse ID'].unique().tolist()\n",
    "\n",
    "# create a list of the Mouse IDs\n",
    "allMice = rawData_df['Mouse ID'].tolist()\n",
    "\n",
    "# create a copy of the raw data\n",
    "cleanData_df = rawData_df.copy(deep=True)\n",
    "\n",
    "# iterate through the list\n",
    "for mouse in uniqueMice:\n",
    "    \n",
    "    # create a DataFrame from the raw data where the Mouse ID matches the iterator\n",
    "    mouse_df = rawData_df.loc[rawData_df['Mouse ID'] == mouse, :]\n",
    "    \n",
    "    # get the maximum count of repeated Timepoint values\n",
    "    timepoint_duplicate = max(mouse_df['Timepoint'].value_counts().tolist())\n",
    "    \n",
    "    # if the count is greater than 1, there is a duplicate\n",
    "    if timepoint_duplicate > 1:\n",
    "        print(f'The Mouse ID, {mouse}, contains {timepoint_duplicate}x duplicated Timepoint data.')\n",
    "        print()\n",
    "        print(mouse_df.head())\n",
    "        \n",
    "        # remove the affected Mouse ID from the raw data\n",
    "        cleanData_df = cleanData_df.loc[cleanData_df['Mouse ID'] != mouse, :]"
   ]
  },
  {
   "cell_type": "code",
   "execution_count": 6,
   "id": "7260a4e0",
   "metadata": {},
   "outputs": [
    {
     "name": "stdout",
     "output_type": "stream",
     "text": [
      "The given dataset contains 248 unique instances of Mouse ID.\n"
     ]
    }
   ],
   "source": [
    "# display the cleaned count of unique Mouse IDs\n",
    "print(f\"The given dataset contains {cleanData_df.nunique()['Mouse ID']} unique instances of Mouse ID.\")"
   ]
  },
  {
   "cell_type": "markdown",
   "id": "cb8a828d",
   "metadata": {},
   "source": [
    "## Generate Summary Statistics"
   ]
  },
  {
   "cell_type": "code",
   "execution_count": 10,
   "id": "cab839c3",
   "metadata": {},
   "outputs": [],
   "source": [
    "# create the statistical groups\n",
    "groupedData_mean = cleanData_df.groupby(['Mouse ID']).mean()['Tumor Volume (mm3)']\n",
    "groupedData_median = cleanData_df.groupby(['Mouse ID']).median()['Tumor Volume (mm3)']\n",
    "groupedData_std = cleanData_df.groupby(['Mouse ID']).std()['Tumor Volume (mm3)']\n",
    "groupedData_var = cleanData_df.groupby(['Mouse ID']).var()['Tumor Volume (mm3)']\n",
    "groupedData_sem = cleanData_df.groupby(['Mouse ID']).sem()['Tumor Volume (mm3)']"
   ]
  },
  {
   "cell_type": "code",
   "execution_count": 16,
   "id": "fcbd6618",
   "metadata": {},
   "outputs": [
    {
     "data": {
      "text/html": [
       "<div>\n",
       "<style scoped>\n",
       "    .dataframe tbody tr th:only-of-type {\n",
       "        vertical-align: middle;\n",
       "    }\n",
       "\n",
       "    .dataframe tbody tr th {\n",
       "        vertical-align: top;\n",
       "    }\n",
       "\n",
       "    .dataframe thead th {\n",
       "        text-align: right;\n",
       "    }\n",
       "</style>\n",
       "<table border=\"1\" class=\"dataframe\">\n",
       "  <thead>\n",
       "    <tr style=\"text-align: right;\">\n",
       "      <th></th>\n",
       "      <th>Tumor Volume (mm3)</th>\n",
       "      <th>Tumor Volume (mm3)</th>\n",
       "    </tr>\n",
       "    <tr>\n",
       "      <th>Mouse ID</th>\n",
       "      <th></th>\n",
       "      <th></th>\n",
       "    </tr>\n",
       "  </thead>\n",
       "  <tbody>\n",
       "    <tr>\n",
       "      <th>a203</th>\n",
       "      <td>56.312708</td>\n",
       "      <td>55.983272</td>\n",
       "    </tr>\n",
       "    <tr>\n",
       "      <th>a251</th>\n",
       "      <td>55.237095</td>\n",
       "      <td>55.938620</td>\n",
       "    </tr>\n",
       "    <tr>\n",
       "      <th>a262</th>\n",
       "      <td>58.611631</td>\n",
       "      <td>58.572588</td>\n",
       "    </tr>\n",
       "    <tr>\n",
       "      <th>a275</th>\n",
       "      <td>52.770965</td>\n",
       "      <td>52.044750</td>\n",
       "    </tr>\n",
       "    <tr>\n",
       "      <th>a366</th>\n",
       "      <td>54.639906</td>\n",
       "      <td>55.265582</td>\n",
       "    </tr>\n",
       "    <tr>\n",
       "      <th>...</th>\n",
       "      <td>...</td>\n",
       "      <td>...</td>\n",
       "    </tr>\n",
       "    <tr>\n",
       "      <th>z435</th>\n",
       "      <td>46.942214</td>\n",
       "      <td>47.115980</td>\n",
       "    </tr>\n",
       "    <tr>\n",
       "      <th>z578</th>\n",
       "      <td>38.411510</td>\n",
       "      <td>38.160380</td>\n",
       "    </tr>\n",
       "    <tr>\n",
       "      <th>z581</th>\n",
       "      <td>53.979584</td>\n",
       "      <td>53.062175</td>\n",
       "    </tr>\n",
       "    <tr>\n",
       "      <th>z795</th>\n",
       "      <td>54.880317</td>\n",
       "      <td>55.613879</td>\n",
       "    </tr>\n",
       "    <tr>\n",
       "      <th>z969</th>\n",
       "      <td>60.194652</td>\n",
       "      <td>60.522215</td>\n",
       "    </tr>\n",
       "  </tbody>\n",
       "</table>\n",
       "<p>248 rows × 2 columns</p>\n",
       "</div>"
      ],
      "text/plain": [
       "          Tumor Volume (mm3)  Tumor Volume (mm3)\n",
       "Mouse ID                                        \n",
       "a203               56.312708           55.983272\n",
       "a251               55.237095           55.938620\n",
       "a262               58.611631           58.572588\n",
       "a275               52.770965           52.044750\n",
       "a366               54.639906           55.265582\n",
       "...                      ...                 ...\n",
       "z435               46.942214           47.115980\n",
       "z578               38.411510           38.160380\n",
       "z581               53.979584           53.062175\n",
       "z795               54.880317           55.613879\n",
       "z969               60.194652           60.522215\n",
       "\n",
       "[248 rows x 2 columns]"
      ]
     },
     "execution_count": 16,
     "metadata": {},
     "output_type": "execute_result"
    }
   ],
   "source": [
    "# because the five stats groups were grouped by the same column, their index columns will be identical\n",
    "keys = groupedData_mean.keys()\n",
    "\n",
    "\n",
    "pd.concat([groupedData_mean, groupedData_median], axis=1)"
   ]
  },
  {
   "cell_type": "code",
   "execution_count": null,
   "id": "7adfe349",
   "metadata": {},
   "outputs": [],
   "source": []
  }
 ],
 "metadata": {
  "kernelspec": {
   "display_name": "PythonData38",
   "language": "python",
   "name": "pythondata38"
  },
  "language_info": {
   "codemirror_mode": {
    "name": "ipython",
    "version": 3
   },
   "file_extension": ".py",
   "mimetype": "text/x-python",
   "name": "python",
   "nbconvert_exporter": "python",
   "pygments_lexer": "ipython3",
   "version": "3.9.7"
  }
 },
 "nbformat": 4,
 "nbformat_minor": 5
}
