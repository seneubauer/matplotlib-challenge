{
 "cells": [
  {
   "cell_type": "code",
   "execution_count": 1,
   "id": "623a7234",
   "metadata": {},
   "outputs": [],
   "source": [
    "# import dependencies\n",
    "import matplotlib.pyplot as plt\n",
    "import pandas as pd\n",
    "import scipy.stats as st\n",
    "import numpy as np"
   ]
  },
  {
   "cell_type": "code",
   "execution_count": 2,
   "id": "a506e31e",
   "metadata": {},
   "outputs": [],
   "source": [
    "# bring in the data sources\n",
    "mouse_metadata_path = \"data/Mouse_metadata.csv\"\n",
    "study_results_path = \"data/Study_results.csv\"\n",
    "\n",
    "mouse_metadata_df = pd.read_csv(mouse_metadata_path)\n",
    "study_results_df = pd.read_csv(study_results_path)"
   ]
  },
  {
   "cell_type": "code",
   "execution_count": 3,
   "id": "fb45b3b7",
   "metadata": {
    "scrolled": false
   },
   "outputs": [
    {
     "data": {
      "text/html": [
       "<div>\n",
       "<style scoped>\n",
       "    .dataframe tbody tr th:only-of-type {\n",
       "        vertical-align: middle;\n",
       "    }\n",
       "\n",
       "    .dataframe tbody tr th {\n",
       "        vertical-align: top;\n",
       "    }\n",
       "\n",
       "    .dataframe thead th {\n",
       "        text-align: right;\n",
       "    }\n",
       "</style>\n",
       "<table border=\"1\" class=\"dataframe\">\n",
       "  <thead>\n",
       "    <tr style=\"text-align: right;\">\n",
       "      <th></th>\n",
       "      <th>Mouse ID</th>\n",
       "      <th>Drug Regimen</th>\n",
       "      <th>Sex</th>\n",
       "      <th>Age_months</th>\n",
       "      <th>Weight (g)</th>\n",
       "      <th>Timepoint</th>\n",
       "      <th>Tumor Volume (mm3)</th>\n",
       "      <th>Metastatic Sites</th>\n",
       "    </tr>\n",
       "  </thead>\n",
       "  <tbody>\n",
       "    <tr>\n",
       "      <th>0</th>\n",
       "      <td>k403</td>\n",
       "      <td>Ramicane</td>\n",
       "      <td>Male</td>\n",
       "      <td>21</td>\n",
       "      <td>16</td>\n",
       "      <td>0</td>\n",
       "      <td>45.000000</td>\n",
       "      <td>0</td>\n",
       "    </tr>\n",
       "    <tr>\n",
       "      <th>1</th>\n",
       "      <td>k403</td>\n",
       "      <td>Ramicane</td>\n",
       "      <td>Male</td>\n",
       "      <td>21</td>\n",
       "      <td>16</td>\n",
       "      <td>5</td>\n",
       "      <td>38.825898</td>\n",
       "      <td>0</td>\n",
       "    </tr>\n",
       "    <tr>\n",
       "      <th>2</th>\n",
       "      <td>k403</td>\n",
       "      <td>Ramicane</td>\n",
       "      <td>Male</td>\n",
       "      <td>21</td>\n",
       "      <td>16</td>\n",
       "      <td>10</td>\n",
       "      <td>35.014271</td>\n",
       "      <td>1</td>\n",
       "    </tr>\n",
       "    <tr>\n",
       "      <th>3</th>\n",
       "      <td>k403</td>\n",
       "      <td>Ramicane</td>\n",
       "      <td>Male</td>\n",
       "      <td>21</td>\n",
       "      <td>16</td>\n",
       "      <td>15</td>\n",
       "      <td>34.223992</td>\n",
       "      <td>1</td>\n",
       "    </tr>\n",
       "    <tr>\n",
       "      <th>4</th>\n",
       "      <td>k403</td>\n",
       "      <td>Ramicane</td>\n",
       "      <td>Male</td>\n",
       "      <td>21</td>\n",
       "      <td>16</td>\n",
       "      <td>20</td>\n",
       "      <td>32.997729</td>\n",
       "      <td>1</td>\n",
       "    </tr>\n",
       "  </tbody>\n",
       "</table>\n",
       "</div>"
      ],
      "text/plain": [
       "  Mouse ID Drug Regimen   Sex  Age_months  Weight (g)  Timepoint  \\\n",
       "0     k403     Ramicane  Male          21          16          0   \n",
       "1     k403     Ramicane  Male          21          16          5   \n",
       "2     k403     Ramicane  Male          21          16         10   \n",
       "3     k403     Ramicane  Male          21          16         15   \n",
       "4     k403     Ramicane  Male          21          16         20   \n",
       "\n",
       "   Tumor Volume (mm3)  Metastatic Sites  \n",
       "0           45.000000                 0  \n",
       "1           38.825898                 0  \n",
       "2           35.014271                 1  \n",
       "3           34.223992                 1  \n",
       "4           32.997729                 1  "
      ]
     },
     "execution_count": 3,
     "metadata": {},
     "output_type": "execute_result"
    }
   ],
   "source": [
    "# combine the DataFrames\n",
    "rawData_df = pd.merge(mouse_metadata_df, study_results_df, on='Mouse ID', how='outer')\n",
    "\n",
    "# preview the raw DataFrame\n",
    "rawData_df.head()"
   ]
  },
  {
   "cell_type": "markdown",
   "id": "f7f27fbb",
   "metadata": {},
   "source": [
    "## Prepare the Data"
   ]
  },
  {
   "cell_type": "code",
   "execution_count": 4,
   "id": "15dcaca5",
   "metadata": {},
   "outputs": [
    {
     "name": "stdout",
     "output_type": "stream",
     "text": [
      "The given dataset contains 249 unique instances of Mouse ID.\n"
     ]
    }
   ],
   "source": [
    "# display the count of unique Mouse IDs\n",
    "print(f\"The given dataset contains {rawData_df.nunique()['Mouse ID']} unique instances of Mouse ID.\")"
   ]
  },
  {
   "cell_type": "code",
   "execution_count": 5,
   "id": "cd4ff85b",
   "metadata": {},
   "outputs": [
    {
     "name": "stdout",
     "output_type": "stream",
     "text": [
      "The Mouse ID, g989, contains 2x duplicated Timepoint data.\n",
      "\n",
      "    Mouse ID Drug Regimen     Sex  Age_months  Weight (g)  Timepoint  \\\n",
      "908     g989     Propriva  Female          21          26          0   \n",
      "909     g989     Propriva  Female          21          26          0   \n",
      "910     g989     Propriva  Female          21          26          5   \n",
      "911     g989     Propriva  Female          21          26          5   \n",
      "912     g989     Propriva  Female          21          26         10   \n",
      "\n",
      "     Tumor Volume (mm3)  Metastatic Sites  \n",
      "908           45.000000                 0  \n",
      "909           45.000000                 0  \n",
      "910           48.786801                 0  \n",
      "911           47.570392                 0  \n",
      "912           51.745156                 0  \n"
     ]
    }
   ],
   "source": [
    "# check for duplicated timepoints\n",
    "\n",
    "# create a list of the unique Mouse IDs\n",
    "uniqueMice = rawData_df['Mouse ID'].unique().tolist()\n",
    "\n",
    "# create a list of the Mouse IDs\n",
    "allMice = rawData_df['Mouse ID'].tolist()\n",
    "\n",
    "# create a copy of the raw data\n",
    "cleanData_df = rawData_df.copy(deep=True)\n",
    "\n",
    "# iterate through the list\n",
    "for mouse in uniqueMice:\n",
    "    \n",
    "    # create a DataFrame from the raw data where the Mouse ID matches the iterator\n",
    "    mouse_df = rawData_df.loc[rawData_df['Mouse ID'] == mouse, :]\n",
    "    \n",
    "    # get the maximum count of repeated Timepoint values\n",
    "    timepoint_duplicate = max(mouse_df['Timepoint'].value_counts().tolist())\n",
    "    \n",
    "    # if the count is greater than 1, there is a duplicate\n",
    "    if timepoint_duplicate > 1:\n",
    "        print(f'The Mouse ID, {mouse}, contains {timepoint_duplicate}x duplicated Timepoint data.')\n",
    "        print()\n",
    "        print(mouse_df.head())\n",
    "        \n",
    "        # remove the affected Mouse ID from the raw data\n",
    "        cleanData_df = cleanData_df.loc[cleanData_df['Mouse ID'] != mouse, :]"
   ]
  },
  {
   "cell_type": "code",
   "execution_count": 6,
   "id": "7260a4e0",
   "metadata": {},
   "outputs": [
    {
     "name": "stdout",
     "output_type": "stream",
     "text": [
      "The cleaned dataset contains 248 unique instances of Mouse ID.\n"
     ]
    }
   ],
   "source": [
    "# display the cleaned count of unique Mouse IDs\n",
    "print(f\"The cleaned dataset contains {cleanData_df.nunique()['Mouse ID']} unique instances of Mouse ID.\")"
   ]
  },
  {
   "cell_type": "markdown",
   "id": "cb8a828d",
   "metadata": {},
   "source": [
    "## Generate Summary Statistics"
   ]
  },
  {
   "cell_type": "code",
   "execution_count": 7,
   "id": "cab839c3",
   "metadata": {},
   "outputs": [],
   "source": [
    "# create the statistical groups\n",
    "groupedData_mean = cleanData_df.groupby([\"Drug Regimen\"]).mean()[\"Tumor Volume (mm3)\"].map(\"{:,.2f}\".format)\n",
    "groupedData_median = cleanData_df.groupby([\"Drug Regimen\"]).median()[\"Tumor Volume (mm3)\"].map(\"{:,.2f}\".format)\n",
    "groupedData_std = cleanData_df.groupby([\"Drug Regimen\"]).std()[\"Tumor Volume (mm3)\"].map(\"{:,.2f}\".format)\n",
    "groupedData_var = cleanData_df.groupby([\"Drug Regimen\"]).var()[\"Tumor Volume (mm3)\"].map(\"{:,.2f}\".format)\n",
    "groupedData_sem = cleanData_df.groupby([\"Drug Regimen\"]).sem()[\"Tumor Volume (mm3)\"].map(\"{:,.2f}\".format)"
   ]
  },
  {
   "cell_type": "code",
   "execution_count": 8,
   "id": "fcbd6618",
   "metadata": {},
   "outputs": [
    {
     "data": {
      "text/html": [
       "<div>\n",
       "<style scoped>\n",
       "    .dataframe tbody tr th:only-of-type {\n",
       "        vertical-align: middle;\n",
       "    }\n",
       "\n",
       "    .dataframe tbody tr th {\n",
       "        vertical-align: top;\n",
       "    }\n",
       "\n",
       "    .dataframe thead th {\n",
       "        text-align: right;\n",
       "    }\n",
       "</style>\n",
       "<table border=\"1\" class=\"dataframe\">\n",
       "  <thead>\n",
       "    <tr style=\"text-align: right;\">\n",
       "      <th></th>\n",
       "      <th>Mean</th>\n",
       "      <th>Median</th>\n",
       "      <th>St.Dev</th>\n",
       "      <th>Variance</th>\n",
       "      <th>SEM</th>\n",
       "    </tr>\n",
       "    <tr>\n",
       "      <th>Drug Regimen</th>\n",
       "      <th></th>\n",
       "      <th></th>\n",
       "      <th></th>\n",
       "      <th></th>\n",
       "      <th></th>\n",
       "    </tr>\n",
       "  </thead>\n",
       "  <tbody>\n",
       "    <tr>\n",
       "      <th>Capomulin</th>\n",
       "      <td>40.68</td>\n",
       "      <td>41.56</td>\n",
       "      <td>4.99</td>\n",
       "      <td>24.95</td>\n",
       "      <td>0.33</td>\n",
       "    </tr>\n",
       "    <tr>\n",
       "      <th>Ceftamin</th>\n",
       "      <td>52.59</td>\n",
       "      <td>51.78</td>\n",
       "      <td>6.27</td>\n",
       "      <td>39.29</td>\n",
       "      <td>0.47</td>\n",
       "    </tr>\n",
       "    <tr>\n",
       "      <th>Infubinol</th>\n",
       "      <td>52.88</td>\n",
       "      <td>51.82</td>\n",
       "      <td>6.57</td>\n",
       "      <td>43.13</td>\n",
       "      <td>0.49</td>\n",
       "    </tr>\n",
       "    <tr>\n",
       "      <th>Ketapril</th>\n",
       "      <td>55.24</td>\n",
       "      <td>53.70</td>\n",
       "      <td>8.28</td>\n",
       "      <td>68.55</td>\n",
       "      <td>0.60</td>\n",
       "    </tr>\n",
       "    <tr>\n",
       "      <th>Naftisol</th>\n",
       "      <td>54.33</td>\n",
       "      <td>52.51</td>\n",
       "      <td>8.13</td>\n",
       "      <td>66.17</td>\n",
       "      <td>0.60</td>\n",
       "    </tr>\n",
       "    <tr>\n",
       "      <th>Placebo</th>\n",
       "      <td>54.03</td>\n",
       "      <td>52.29</td>\n",
       "      <td>7.82</td>\n",
       "      <td>61.17</td>\n",
       "      <td>0.58</td>\n",
       "    </tr>\n",
       "    <tr>\n",
       "      <th>Propriva</th>\n",
       "      <td>52.32</td>\n",
       "      <td>50.45</td>\n",
       "      <td>6.62</td>\n",
       "      <td>43.85</td>\n",
       "      <td>0.54</td>\n",
       "    </tr>\n",
       "    <tr>\n",
       "      <th>Ramicane</th>\n",
       "      <td>40.22</td>\n",
       "      <td>40.67</td>\n",
       "      <td>4.85</td>\n",
       "      <td>23.49</td>\n",
       "      <td>0.32</td>\n",
       "    </tr>\n",
       "    <tr>\n",
       "      <th>Stelasyn</th>\n",
       "      <td>54.23</td>\n",
       "      <td>52.43</td>\n",
       "      <td>7.71</td>\n",
       "      <td>59.45</td>\n",
       "      <td>0.57</td>\n",
       "    </tr>\n",
       "    <tr>\n",
       "      <th>Zoniferol</th>\n",
       "      <td>53.24</td>\n",
       "      <td>51.82</td>\n",
       "      <td>6.97</td>\n",
       "      <td>48.53</td>\n",
       "      <td>0.52</td>\n",
       "    </tr>\n",
       "  </tbody>\n",
       "</table>\n",
       "</div>"
      ],
      "text/plain": [
       "               Mean Median St.Dev Variance   SEM\n",
       "Drug Regimen                                    \n",
       "Capomulin     40.68  41.56   4.99    24.95  0.33\n",
       "Ceftamin      52.59  51.78   6.27    39.29  0.47\n",
       "Infubinol     52.88  51.82   6.57    43.13  0.49\n",
       "Ketapril      55.24  53.70   8.28    68.55  0.60\n",
       "Naftisol      54.33  52.51   8.13    66.17  0.60\n",
       "Placebo       54.03  52.29   7.82    61.17  0.58\n",
       "Propriva      52.32  50.45   6.62    43.85  0.54\n",
       "Ramicane      40.22  40.67   4.85    23.49  0.32\n",
       "Stelasyn      54.23  52.43   7.71    59.45  0.57\n",
       "Zoniferol     53.24  51.82   6.97    48.53  0.52"
      ]
     },
     "execution_count": 8,
     "metadata": {},
     "output_type": "execute_result"
    }
   ],
   "source": [
    "# because the five stats groups were grouped by the same column, their index columns will be identical\n",
    "summary0_df = pd.DataFrame({\n",
    "            \"Mean\": groupedData_mean,\n",
    "            \"Median\": groupedData_median,\n",
    "            \"St.Dev\": groupedData_std,\n",
    "            \"Variance\": groupedData_var,\n",
    "            \"SEM\": groupedData_sem})\n",
    "\n",
    "# display all 10 entries of the first statistical summary DataFrame\n",
    "summary0_df.head(10)"
   ]
  },
  {
   "cell_type": "code",
   "execution_count": 9,
   "id": "7adfe349",
   "metadata": {},
   "outputs": [
    {
     "data": {
      "text/html": [
       "<div>\n",
       "<style scoped>\n",
       "    .dataframe tbody tr th:only-of-type {\n",
       "        vertical-align: middle;\n",
       "    }\n",
       "\n",
       "    .dataframe tbody tr th {\n",
       "        vertical-align: top;\n",
       "    }\n",
       "\n",
       "    .dataframe thead th {\n",
       "        text-align: right;\n",
       "    }\n",
       "</style>\n",
       "<table border=\"1\" class=\"dataframe\">\n",
       "  <thead>\n",
       "    <tr style=\"text-align: right;\">\n",
       "      <th></th>\n",
       "      <th>Tumor Volume (mm3)</th>\n",
       "    </tr>\n",
       "  </thead>\n",
       "  <tbody>\n",
       "    <tr>\n",
       "      <th>mean</th>\n",
       "      <td>50.44</td>\n",
       "    </tr>\n",
       "    <tr>\n",
       "      <th>median</th>\n",
       "      <td>48.93</td>\n",
       "    </tr>\n",
       "    <tr>\n",
       "      <th>std</th>\n",
       "      <td>8.91</td>\n",
       "    </tr>\n",
       "    <tr>\n",
       "      <th>var</th>\n",
       "      <td>79.46</td>\n",
       "    </tr>\n",
       "    <tr>\n",
       "      <th>sem</th>\n",
       "      <td>0.21</td>\n",
       "    </tr>\n",
       "  </tbody>\n",
       "</table>\n",
       "</div>"
      ],
      "text/plain": [
       "        Tumor Volume (mm3)\n",
       "mean                 50.44\n",
       "median               48.93\n",
       "std                   8.91\n",
       "var                  79.46\n",
       "sem                   0.21"
      ]
     },
     "execution_count": 9,
     "metadata": {},
     "output_type": "execute_result"
    }
   ],
   "source": [
    "# recreate the 'summary0_df' DataFrame using the pd.DataFrame.agg method in a single line of code\n",
    "summary1_df = cleanData_df.agg({\"Tumor Volume (mm3)\": [\"mean\", \"median\", \"std\", \"var\", \"sem\"]}).round(2)\n",
    "summary1_df.head()"
   ]
  },
  {
   "cell_type": "markdown",
   "id": "d45fb42d",
   "metadata": {},
   "source": [
    "## Create Bar Charts and a Pie Chart"
   ]
  },
  {
   "cell_type": "code",
   "execution_count": 10,
   "id": "3e159c19",
   "metadata": {},
   "outputs": [],
   "source": [
    "timePoints_df = cleanData_df[\"Drug Regimen\"].value_counts()"
   ]
  },
  {
   "cell_type": "code",
   "execution_count": 11,
   "id": "4751a9f8",
   "metadata": {},
   "outputs": [
    {
     "data": {
      "image/png": "[encoded data removed]",
      "text/plain": [
       "<Figure size 1080x432 with 1 Axes>"
      ]
     },
     "metadata": {
      "needs_background": "light"
     },
     "output_type": "display_data"
    }
   ],
   "source": [
    "# create one bar chart using DataFrame.plot\n",
    "figure1 = timePoints_df.plot(\n",
    "                        kind=\"bar\",\n",
    "                        facecolor=\"red\",\n",
    "                        figsize=(15,6),\n",
    "                        width=0.5,\n",
    "                        rot=0,\n",
    "                        title=\"Mice Tested Per Drug Regimen\",\n",
    "                        xlabel=\"Drug Regimen\",\n",
    "                        ylabel=\"Number of Mice Tested\")\n",
    "plt.show()"
   ]
  },
  {
   "cell_type": "code",
   "execution_count": 12,
   "id": "4bd51d69",
   "metadata": {},
   "outputs": [
    {
     "data": {
      "image/png": "[encoded data removed]",
      "text/plain": [
       "<Figure size 1080x432 with 1 Axes>"
      ]
     },
     "metadata": {
      "needs_background": "light"
     },
     "output_type": "display_data"
    }
   ],
   "source": [
    "# create one bar chart using plt.bar\n",
    "plt.figure(figsize=(15,6))\n",
    "plt.bar(timePoints_df.keys(), timePoints_df.tolist(), color=\"red\", align=\"center\", width=0.5)\n",
    "plt.xticks([value for value in timePoints_df.keys()])\n",
    "plt.title(\"Mice Tested Per Drug Regimen\")\n",
    "plt.xlabel(\"Drug Regimen\")\n",
    "plt.ylabel(\"Number of Mice Tested\")\n",
    "plt.show()"
   ]
  },
  {
   "cell_type": "code",
   "execution_count": 13,
   "id": "f04981c2",
   "metadata": {},
   "outputs": [],
   "source": [
    "mouseSexes_df = cleanData_df['Sex'].value_counts()"
   ]
  },
  {
   "cell_type": "code",
   "execution_count": 14,
   "id": "88c15de0",
   "metadata": {},
   "outputs": [
    {
     "data": {
      "image/png": "[encoded data removed]",
      "text/plain": [
       "<Figure size 576x576 with 1 Axes>"
      ]
     },
     "metadata": {},
     "output_type": "display_data"
    }
   ],
   "source": [
    "# create one pie chart using DataFrame.plot\n",
    "figure2 = mouseSexes_df.plot(\n",
    "                        kind=\"pie\",\n",
    "                        explode=[0, 0.1],\n",
    "                        colors=[\"red\", \"blue\"],\n",
    "                        shadow=True,\n",
    "                        title=\"Distribution of Mouse Sex\",\n",
    "                        autopct=\"%1.1f%%\",\n",
    "                        figsize=(8,8))\n",
    "plt.show()"
   ]
  },
  {
   "cell_type": "code",
   "execution_count": 15,
   "id": "06407e1f",
   "metadata": {},
   "outputs": [
    {
     "data": {
      "image/png": "[encoded data removed]",
      "text/plain": [
       "<Figure size 576x576 with 1 Axes>"
      ]
     },
     "metadata": {},
     "output_type": "display_data"
    }
   ],
   "source": [
    "# create one pie chart using plt.pie\n",
    "plt.figure(figsize=(8,8))\n",
    "plt.pie(mouseSexes_df.tolist(), \n",
    "        explode=[0, 0.1], \n",
    "        labels=mouseSexes_df.keys(), \n",
    "        colors=[\"red\", \"blue\"], \n",
    "        shadow=True, \n",
    "        autopct=\"%1.1f%%\")\n",
    "plt.title(\"Distribution of Mouse Sex\")\n",
    "plt.ylabel(\"Sex\")\n",
    "plt.show()"
   ]
  },
  {
   "cell_type": "markdown",
   "id": "e571ea45",
   "metadata": {},
   "source": [
    "## Calculate Quartiles, Find Outliers, and Create a Box Plot"
   ]
  },
  {
   "cell_type": "code",
   "execution_count": 78,
   "id": "48af6891",
   "metadata": {
    "scrolled": false
   },
   "outputs": [
    {
     "data": {
      "text/html": [
       "<div>\n",
       "<style scoped>\n",
       "    .dataframe tbody tr th:only-of-type {\n",
       "        vertical-align: middle;\n",
       "    }\n",
       "\n",
       "    .dataframe tbody tr th {\n",
       "        vertical-align: top;\n",
       "    }\n",
       "\n",
       "    .dataframe thead th {\n",
       "        text-align: right;\n",
       "    }\n",
       "</style>\n",
       "<table border=\"1\" class=\"dataframe\">\n",
       "  <thead>\n",
       "    <tr style=\"text-align: right;\">\n",
       "      <th></th>\n",
       "      <th>Mouse ID</th>\n",
       "      <th>Drug Regimen_x</th>\n",
       "      <th>Sex_x</th>\n",
       "      <th>Age_months_x</th>\n",
       "      <th>Weight (g)_x</th>\n",
       "      <th>Timepoint_x</th>\n",
       "      <th>Tumor Volume (mm3)_x</th>\n",
       "      <th>Metastatic Sites_x</th>\n",
       "      <th>Drug Regimen_y</th>\n",
       "      <th>Sex_y</th>\n",
       "      <th>Age_months_y</th>\n",
       "      <th>Weight (g)_y</th>\n",
       "      <th>Timepoint_y</th>\n",
       "      <th>Tumor Volume (mm3)_y</th>\n",
       "      <th>Metastatic Sites_y</th>\n",
       "    </tr>\n",
       "  </thead>\n",
       "  <tbody>\n",
       "    <tr>\n",
       "      <th>0</th>\n",
       "      <td>k403</td>\n",
       "      <td>Ramicane</td>\n",
       "      <td>Male</td>\n",
       "      <td>21</td>\n",
       "      <td>16</td>\n",
       "      <td>0</td>\n",
       "      <td>45.000000</td>\n",
       "      <td>0</td>\n",
       "      <td>Ramicane</td>\n",
       "      <td>Male</td>\n",
       "      <td>21</td>\n",
       "      <td>16</td>\n",
       "      <td>45</td>\n",
       "      <td>45.000000</td>\n",
       "      <td>1</td>\n",
       "    </tr>\n",
       "    <tr>\n",
       "      <th>1</th>\n",
       "      <td>k403</td>\n",
       "      <td>Ramicane</td>\n",
       "      <td>Male</td>\n",
       "      <td>21</td>\n",
       "      <td>16</td>\n",
       "      <td>5</td>\n",
       "      <td>38.825898</td>\n",
       "      <td>0</td>\n",
       "      <td>Ramicane</td>\n",
       "      <td>Male</td>\n",
       "      <td>21</td>\n",
       "      <td>16</td>\n",
       "      <td>45</td>\n",
       "      <td>45.000000</td>\n",
       "      <td>1</td>\n",
       "    </tr>\n",
       "    <tr>\n",
       "      <th>2</th>\n",
       "      <td>k403</td>\n",
       "      <td>Ramicane</td>\n",
       "      <td>Male</td>\n",
       "      <td>21</td>\n",
       "      <td>16</td>\n",
       "      <td>10</td>\n",
       "      <td>35.014271</td>\n",
       "      <td>1</td>\n",
       "      <td>Ramicane</td>\n",
       "      <td>Male</td>\n",
       "      <td>21</td>\n",
       "      <td>16</td>\n",
       "      <td>45</td>\n",
       "      <td>45.000000</td>\n",
       "      <td>1</td>\n",
       "    </tr>\n",
       "    <tr>\n",
       "      <th>3</th>\n",
       "      <td>k403</td>\n",
       "      <td>Ramicane</td>\n",
       "      <td>Male</td>\n",
       "      <td>21</td>\n",
       "      <td>16</td>\n",
       "      <td>15</td>\n",
       "      <td>34.223992</td>\n",
       "      <td>1</td>\n",
       "      <td>Ramicane</td>\n",
       "      <td>Male</td>\n",
       "      <td>21</td>\n",
       "      <td>16</td>\n",
       "      <td>45</td>\n",
       "      <td>45.000000</td>\n",
       "      <td>1</td>\n",
       "    </tr>\n",
       "    <tr>\n",
       "      <th>4</th>\n",
       "      <td>k403</td>\n",
       "      <td>Ramicane</td>\n",
       "      <td>Male</td>\n",
       "      <td>21</td>\n",
       "      <td>16</td>\n",
       "      <td>20</td>\n",
       "      <td>32.997729</td>\n",
       "      <td>1</td>\n",
       "      <td>Ramicane</td>\n",
       "      <td>Male</td>\n",
       "      <td>21</td>\n",
       "      <td>16</td>\n",
       "      <td>45</td>\n",
       "      <td>45.000000</td>\n",
       "      <td>1</td>\n",
       "    </tr>\n",
       "    <tr>\n",
       "      <th>...</th>\n",
       "      <td>...</td>\n",
       "      <td>...</td>\n",
       "      <td>...</td>\n",
       "      <td>...</td>\n",
       "      <td>...</td>\n",
       "      <td>...</td>\n",
       "      <td>...</td>\n",
       "      <td>...</td>\n",
       "      <td>...</td>\n",
       "      <td>...</td>\n",
       "      <td>...</td>\n",
       "      <td>...</td>\n",
       "      <td>...</td>\n",
       "      <td>...</td>\n",
       "      <td>...</td>\n",
       "    </tr>\n",
       "    <tr>\n",
       "      <th>1875</th>\n",
       "      <td>z969</td>\n",
       "      <td>Naftisol</td>\n",
       "      <td>Male</td>\n",
       "      <td>9</td>\n",
       "      <td>30</td>\n",
       "      <td>25</td>\n",
       "      <td>63.145652</td>\n",
       "      <td>2</td>\n",
       "      <td>Naftisol</td>\n",
       "      <td>Male</td>\n",
       "      <td>9</td>\n",
       "      <td>30</td>\n",
       "      <td>45</td>\n",
       "      <td>73.867845</td>\n",
       "      <td>4</td>\n",
       "    </tr>\n",
       "    <tr>\n",
       "      <th>1876</th>\n",
       "      <td>z969</td>\n",
       "      <td>Naftisol</td>\n",
       "      <td>Male</td>\n",
       "      <td>9</td>\n",
       "      <td>30</td>\n",
       "      <td>30</td>\n",
       "      <td>65.841013</td>\n",
       "      <td>3</td>\n",
       "      <td>Naftisol</td>\n",
       "      <td>Male</td>\n",
       "      <td>9</td>\n",
       "      <td>30</td>\n",
       "      <td>45</td>\n",
       "      <td>73.867845</td>\n",
       "      <td>4</td>\n",
       "    </tr>\n",
       "    <tr>\n",
       "      <th>1877</th>\n",
       "      <td>z969</td>\n",
       "      <td>Naftisol</td>\n",
       "      <td>Male</td>\n",
       "      <td>9</td>\n",
       "      <td>30</td>\n",
       "      <td>35</td>\n",
       "      <td>69.176246</td>\n",
       "      <td>4</td>\n",
       "      <td>Naftisol</td>\n",
       "      <td>Male</td>\n",
       "      <td>9</td>\n",
       "      <td>30</td>\n",
       "      <td>45</td>\n",
       "      <td>73.867845</td>\n",
       "      <td>4</td>\n",
       "    </tr>\n",
       "    <tr>\n",
       "      <th>1878</th>\n",
       "      <td>z969</td>\n",
       "      <td>Naftisol</td>\n",
       "      <td>Male</td>\n",
       "      <td>9</td>\n",
       "      <td>30</td>\n",
       "      <td>40</td>\n",
       "      <td>70.314904</td>\n",
       "      <td>4</td>\n",
       "      <td>Naftisol</td>\n",
       "      <td>Male</td>\n",
       "      <td>9</td>\n",
       "      <td>30</td>\n",
       "      <td>45</td>\n",
       "      <td>73.867845</td>\n",
       "      <td>4</td>\n",
       "    </tr>\n",
       "    <tr>\n",
       "      <th>1879</th>\n",
       "      <td>z969</td>\n",
       "      <td>Naftisol</td>\n",
       "      <td>Male</td>\n",
       "      <td>9</td>\n",
       "      <td>30</td>\n",
       "      <td>45</td>\n",
       "      <td>73.867845</td>\n",
       "      <td>4</td>\n",
       "      <td>Naftisol</td>\n",
       "      <td>Male</td>\n",
       "      <td>9</td>\n",
       "      <td>30</td>\n",
       "      <td>45</td>\n",
       "      <td>73.867845</td>\n",
       "      <td>4</td>\n",
       "    </tr>\n",
       "  </tbody>\n",
       "</table>\n",
       "<p>1880 rows × 15 columns</p>\n",
       "</div>"
      ],
      "text/plain": [
       "     Mouse ID Drug Regimen_x Sex_x  Age_months_x  Weight (g)_x  Timepoint_x  \\\n",
       "0        k403       Ramicane  Male            21            16            0   \n",
       "1        k403       Ramicane  Male            21            16            5   \n",
       "2        k403       Ramicane  Male            21            16           10   \n",
       "3        k403       Ramicane  Male            21            16           15   \n",
       "4        k403       Ramicane  Male            21            16           20   \n",
       "...       ...            ...   ...           ...           ...          ...   \n",
       "1875     z969       Naftisol  Male             9            30           25   \n",
       "1876     z969       Naftisol  Male             9            30           30   \n",
       "1877     z969       Naftisol  Male             9            30           35   \n",
       "1878     z969       Naftisol  Male             9            30           40   \n",
       "1879     z969       Naftisol  Male             9            30           45   \n",
       "\n",
       "      Tumor Volume (mm3)_x  Metastatic Sites_x Drug Regimen_y Sex_y  \\\n",
       "0                45.000000                   0       Ramicane  Male   \n",
       "1                38.825898                   0       Ramicane  Male   \n",
       "2                35.014271                   1       Ramicane  Male   \n",
       "3                34.223992                   1       Ramicane  Male   \n",
       "4                32.997729                   1       Ramicane  Male   \n",
       "...                    ...                 ...            ...   ...   \n",
       "1875             63.145652                   2       Naftisol  Male   \n",
       "1876             65.841013                   3       Naftisol  Male   \n",
       "1877             69.176246                   4       Naftisol  Male   \n",
       "1878             70.314904                   4       Naftisol  Male   \n",
       "1879             73.867845                   4       Naftisol  Male   \n",
       "\n",
       "      Age_months_y  Weight (g)_y  Timepoint_y  Tumor Volume (mm3)_y  \\\n",
       "0               21            16           45             45.000000   \n",
       "1               21            16           45             45.000000   \n",
       "2               21            16           45             45.000000   \n",
       "3               21            16           45             45.000000   \n",
       "4               21            16           45             45.000000   \n",
       "...            ...           ...          ...                   ...   \n",
       "1875             9            30           45             73.867845   \n",
       "1876             9            30           45             73.867845   \n",
       "1877             9            30           45             73.867845   \n",
       "1878             9            30           45             73.867845   \n",
       "1879             9            30           45             73.867845   \n",
       "\n",
       "      Metastatic Sites_y  \n",
       "0                      1  \n",
       "1                      1  \n",
       "2                      1  \n",
       "3                      1  \n",
       "4                      1  \n",
       "...                  ...  \n",
       "1875                   4  \n",
       "1876                   4  \n",
       "1877                   4  \n",
       "1878                   4  \n",
       "1879                   4  \n",
       "\n",
       "[1880 rows x 15 columns]"
      ]
     },
     "execution_count": 78,
     "metadata": {},
     "output_type": "execute_result"
    }
   ],
   "source": [
    "# create a new DataFrame that only contains the greatest Timepoint\n",
    "lastTimepoint_df = cleanData_df.groupby([\"Mouse ID\"]).max()\n",
    "\n",
    "# merge this DataFrame with the original cleaned DataFrame into a new one\n",
    "newCleanData_df = pd.merge(cleanData_df, lastTimepoint_df, on=\"Mouse ID\", how=\"inner\")"
   ]
  },
  {
   "cell_type": "code",
   "execution_count": 81,
   "id": "125feb2a",
   "metadata": {},
   "outputs": [
    {
     "name": "stdout",
     "output_type": "stream",
     "text": [
      "Capomulin\n",
      "Lower Quartile:\t45.12\n",
      "Upper Quartile:\t46.81\n",
      "IQR:\t\t1.69\n",
      "Median:\t\t45.89\n",
      "Lower Bound:\t42.58\n",
      "Upper Bound:\t49.35\n",
      "-----------------------------------\n",
      "Ramicane\n",
      "Lower Quartile:\t45.00\n",
      "Upper Quartile:\t46.34\n",
      "IQR:\t\t1.34\n",
      "Median:\t\t45.52\n",
      "Lower Bound:\t42.98\n",
      "Upper Bound:\t48.36\n",
      "-----------------------------------\n",
      "Infubinol\n",
      "Lower Quartile:\t57.03\n",
      "Upper Quartile:\t66.20\n",
      "IQR:\t\t9.17\n",
      "Median:\t\t62.28\n",
      "Lower Bound:\t43.28\n",
      "Upper Bound:\t79.94\n",
      "-----------------------------------\n",
      "Ceftamin\n",
      "Lower Quartile:\t59.74\n",
      "Upper Quartile:\t64.73\n",
      "IQR:\t\t4.99\n",
      "Median:\t\t62.42\n",
      "Lower Bound:\t52.26\n",
      "Upper Bound:\t72.21\n",
      "* This drug contains 13 outlier(s).\n",
      "* Outliers: ['b447', 'f436', 'f436', 'f436', 'f436', 'h531', 'h531', 'l558', 'l558', 'l558', 't573', 'u153', 'x226']\n",
      "-----------------------------------\n"
     ]
    }
   ],
   "source": [
    "# create the lists\n",
    "treatments = [\"Capomulin\", \"Ramicane\", \"Infubinol\", \"Ceftamin\"]\n",
    "tumorData = []\n",
    "targetedTreatment = treatments[0]\n",
    "\n",
    "# iterate through the effective drugs\n",
    "for i in range(len(treatments)):\n",
    "    \n",
    "    # extract the drug specific rows\n",
    "    drugData_df = newCleanData_df.loc[newCleanData_df[\"Drug Regimen_y\"] == treatments[i], :]\n",
    "    \n",
    "    # append the tumor volumes list to the tumorData list\n",
    "    tumorData.append(drugData_df[\"Tumor Volume (mm3)_y\"])\n",
    "    \n",
    "    # calculate the quartiles from the extracted data\n",
    "    quartiles = drugData_df[\"Tumor Volume (mm3)_y\"].quantile([0.25, 0.50, 0.75])\n",
    "    \n",
    "    # get the upper/lower quartiles\n",
    "    lowerQ = quartiles[0.25]\n",
    "    upperQ = quartiles[0.75]\n",
    "    iqr = upperQ - lowerQ\n",
    "    \n",
    "    # calculate the upper/lower bounds and iqr\n",
    "    lowerBound = lowerQ - (1.5 * iqr)\n",
    "    upperBound = upperQ + (1.5 * iqr)\n",
    "    \n",
    "    # specify the corresponding drug to the following printed information\n",
    "    print(f\"{treatments[i]}\")\n",
    "    \n",
    "    # print the quartile/IQR data\n",
    "    print(f\"Lower Quartile:\\t{lowerQ:,.2f}\")\n",
    "    print(f\"Upper Quartile:\\t{upperQ:,.2f}\")\n",
    "    print(f\"IQR:\\t\\t{iqr:,.2f}\")\n",
    "    print(f\"Median:\\t\\t{quartiles[0.50]:,.2f}\")\n",
    "    \n",
    "    # print the boundaries\n",
    "    print(f\"Lower Bound:\\t{lowerBound:,.2f}\")\n",
    "    print(f\"Upper Bound:\\t{upperBound:,.2f}\")\n",
    "    \n",
    "    # retreive the outliers\n",
    "    outliers_list = drugData_df.loc[(\n",
    "                                 drugData_df[\"Tumor Volume (mm3)_y\"] < lowerBound) | \n",
    "                                 (drugData_df[\"Tumor Volume (mm3)_y\"] > upperBound), :][\"Mouse ID\"].tolist()\n",
    "    \n",
    "    # get the amount of outliers\n",
    "    outlier_count = len(outliers_list)\n",
    "    \n",
    "    # report the outliers if they exist\n",
    "    if outlier_count > 0:\n",
    "        print(f\"* This drug contains {outlier_count} outlier(s).\")\n",
    "        print(f\"* Outliers: {outliers_list}\")\n",
    "    print(\"-----------------------------------\")"
   ]
  },
  {
   "cell_type": "code",
   "execution_count": 33,
   "id": "ff67b684",
   "metadata": {},
   "outputs": [
    {
     "data": {
      "image/png": "[encoded data removed]",
      "text/plain": [
       "<Figure size 1080x432 with 1 Axes>"
      ]
     },
     "metadata": {
      "needs_background": "light"
     },
     "output_type": "display_data"
    }
   ],
   "source": [
    "# create the subplot\n",
    "fig, ax0 = plt.subplots(figsize=(15,6))\n",
    "\n",
    "# define the plot\n",
    "ax0.set_title(\"Outlier Analysis for Tumor Volumes\")\n",
    "ax0.set_ylabel(\"Tumor Volume (mm3)\")\n",
    "ax0.boxplot(tumorData,\n",
    "           labels=treatments,\n",
    "           patch_artist=True,\n",
    "           flierprops={\"marker\": \"o\", \"markersize\": 10, \"markerfacecolor\": \"red\"})\n",
    "\n",
    "# show the plot\n",
    "plt.show()"
   ]
  },
  {
   "cell_type": "markdown",
   "id": "fabaf2a1",
   "metadata": {},
   "source": [
    "## Create a Line Plot and a Scatter Plot"
   ]
  },
  {
   "cell_type": "code",
   "execution_count": 19,
   "id": "b409d26e",
   "metadata": {},
   "outputs": [
    {
     "name": "stdout",
     "output_type": "stream",
     "text": [
      "['s185', 'x401', 'm601', 'f966', 'u364', 'y793', 'r554', 'm957', 't565', 'i738', 'w914', 'g288', 'l897', 'b742', 'b128', 'j246', 'j119', 'w150', 'v923', 'g316', 's710', 'l509', 'r944', 'i557', 'r157']\n"
     ]
    }
   ],
   "source": [
    "# get a list of the available mice\n",
    "availableMice = cleanData_df.loc[cleanData_df[\"Drug Regimen\"] == targetedTreatment][\"Mouse ID\"].unique().tolist()\n",
    "\n",
    "# show the availabe mice\n",
    "print(availableMice)"
   ]
  },
  {
   "cell_type": "code",
   "execution_count": 20,
   "id": "bd52abbd",
   "metadata": {},
   "outputs": [
    {
     "name": "stdout",
     "output_type": "stream",
     "text": [
      "Enter a Mouse ID from the preceding list. l509\n"
     ]
    }
   ],
   "source": [
    "# select a mouse\n",
    "mouse = input(f\"Enter a Mouse ID from the preceding list. \")"
   ]
  },
  {
   "cell_type": "code",
   "execution_count": 21,
   "id": "7993881b",
   "metadata": {},
   "outputs": [],
   "source": [
    "# extract the tumor volume data\n",
    "yList0 = cleanData_df.loc[cleanData_df[\"Mouse ID\"] == mouse][\"Tumor Volume (mm3)\"].tolist()\n",
    "\n",
    "# extract the timepoint data\n",
    "xList0 = cleanData_df.loc[cleanData_df[\"Mouse ID\"] == mouse][\"Timepoint\"].tolist()"
   ]
  },
  {
   "cell_type": "code",
   "execution_count": 22,
   "id": "dcb9dbe9",
   "metadata": {},
   "outputs": [
    {
     "data": {
      "image/png": "[encoded data removed]",
      "text/plain": [
       "<Figure size 1080x432 with 1 Axes>"
      ]
     },
     "metadata": {
      "needs_background": "light"
     },
     "output_type": "display_data"
    }
   ],
   "source": [
    "# plot the extracted data\n",
    "plt.figure(figsize=(15,6))\n",
    "plt.plot(xList0, yList0)\n",
    "plt.title(f\"{targetedTreatment} treatment for mouse {mouse}\")\n",
    "plt.xlabel(\"Timepoint (days)\")\n",
    "plt.ylabel(\"Tumor Volume (mm3)\")\n",
    "plt.show()"
   ]
  },
  {
   "cell_type": "code",
   "execution_count": 23,
   "id": "4ff7c75b",
   "metadata": {},
   "outputs": [],
   "source": [
    "# group the data\n",
    "groupedData_df = cleanData_df.loc[cleanData_df[\"Drug Regimen\"] == targetedTreatment, :].groupby([\"Mouse ID\"]).mean()\n",
    "\n",
    "# extract the tumor volume data\n",
    "yList1 = groupedData_df[\"Tumor Volume (mm3)\"]\n",
    "\n",
    "xList1 = groupedData_df[\"Weight (g)\"]"
   ]
  },
  {
   "cell_type": "code",
   "execution_count": 24,
   "id": "73ae70ae",
   "metadata": {},
   "outputs": [
    {
     "data": {
      "image/png": "[encoded data removed]",
      "text/plain": [
       "<Figure size 1080x432 with 1 Axes>"
      ]
     },
     "metadata": {
      "needs_background": "light"
     },
     "output_type": "display_data"
    }
   ],
   "source": [
    "# plot the extracted data\n",
    "plt.figure(figsize=(15,6))\n",
    "plt.scatter(xList1, yList1, marker=\"o\", facecolors=\"blue\", edgecolors=\"black\", alpha=0.75)\n",
    "plt.title(f\"{treatments[0]} treatment\")\n",
    "plt.xlabel(\"Weight (g)\")\n",
    "plt.ylabel(\"Tumor Volume (mm3)\")\n",
    "plt.show()"
   ]
  },
  {
   "cell_type": "markdown",
   "id": "dd4dd073",
   "metadata": {},
   "source": [
    "## Calculate Correlation and Regression"
   ]
  },
  {
   "cell_type": "code",
   "execution_count": 25,
   "id": "89db161d",
   "metadata": {},
   "outputs": [
    {
     "name": "stdout",
     "output_type": "stream",
     "text": [
      "The correlation between Tumor Volume and Mouse Weight is 0.84.\n"
     ]
    }
   ],
   "source": [
    "# calculate the correlation\n",
    "pR = st.pearsonr(xList1, yList1)\n",
    "correlation = pR[0]\n",
    "\n",
    "# display the correlation factor between tumor volume and mouse weight\n",
    "print(f\"The correlation between Tumor Volume and Mouse Weight is {correlation:,.2f}.\")"
   ]
  },
  {
   "cell_type": "code",
   "execution_count": 26,
   "id": "5d250309",
   "metadata": {},
   "outputs": [],
   "source": [
    "# calculate the linear regression values\n",
    "(slope, intercept, rvalue, pvalue, stderr) = st.linregress(xList1, yList1)\n",
    "\n",
    "# set the regression values\n",
    "regress_values = xList1 * slope + intercept\n",
    "\n",
    "# define the line equation\n",
    "line_equation = f\"y = {slope:,.2f}x + {intercept:,.2f}\""
   ]
  },
  {
   "cell_type": "code",
   "execution_count": 27,
   "id": "6bb44f0a",
   "metadata": {},
   "outputs": [
    {
     "data": {
      "image/png": "[encoded data removed]",
      "text/plain": [
       "<Figure size 1080x432 with 1 Axes>"
      ]
     },
     "metadata": {
      "needs_background": "light"
     },
     "output_type": "display_data"
    }
   ],
   "source": [
    "# plot the linear regression on top of the previous scatter plot\n",
    "plt.figure(figsize=(15,6))\n",
    "plt.scatter(xList1, yList1, marker=\"o\", facecolors=\"blue\", edgecolors=\"black\", alpha=0.75)\n",
    "plt.plot(xList1, regress_values, \"r-\")\n",
    "plt.annotate(line_equation, (20, 36), fontsize=15, color=\"red\")\n",
    "plt.title(f\"{treatments[0]} treatment\")\n",
    "plt.xlabel(\"Weight (g)\")\n",
    "plt.ylabel(\"Tumor Volume (mm3)\")\n",
    "plt.show()"
   ]
  },
  {
   "cell_type": "code",
   "execution_count": null,
   "id": "9ec7a60b",
   "metadata": {},
   "outputs": [],
   "source": []
  }
 ],
 "metadata": {
  "kernelspec": {
   "display_name": "PythonData38",
   "language": "python",
   "name": "pythondata38"
  },
  "language_info": {
   "codemirror_mode": {
    "name": "ipython",
    "version": 3
   },
   "file_extension": ".py",
   "mimetype": "text/x-python",
   "name": "python",
   "nbconvert_exporter": "python",
   "pygments_lexer": "ipython3",
   "version": "3.9.7"
  }
 },
 "nbformat": 4,
 "nbformat_minor": 5
}
