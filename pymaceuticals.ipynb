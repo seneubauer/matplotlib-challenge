{
 "cells": [
  {
   "cell_type": "code",
   "execution_count": 1,
   "id": "623a7234",
   "metadata": {},
   "outputs": [],
   "source": [
    "# import dependencies\n",
    "import matplotlib.pyplot as plt\n",
    "import pandas as pd\n",
    "import scipy.stats as st"
   ]
  },
  {
   "cell_type": "code",
   "execution_count": 2,
   "id": "a506e31e",
   "metadata": {},
   "outputs": [],
   "source": [
    "# bring in the data sources\n",
    "mouse_metadata_path = \"data/Mouse_metadata.csv\"\n",
    "study_results_path = \"data/Study_results.csv\"\n",
    "\n",
    "mouse_metadata_df = pd.read_csv(mouse_metadata_path)\n",
    "study_results_df = pd.read_csv(study_results_path)"
   ]
  },
  {
   "cell_type": "code",
   "execution_count": 3,
   "id": "fb45b3b7",
   "metadata": {
    "scrolled": false
   },
   "outputs": [
    {
     "data": {
      "text/html": [
       "<div>\n",
       "<style scoped>\n",
       "    .dataframe tbody tr th:only-of-type {\n",
       "        vertical-align: middle;\n",
       "    }\n",
       "\n",
       "    .dataframe tbody tr th {\n",
       "        vertical-align: top;\n",
       "    }\n",
       "\n",
       "    .dataframe thead th {\n",
       "        text-align: right;\n",
       "    }\n",
       "</style>\n",
       "<table border=\"1\" class=\"dataframe\">\n",
       "  <thead>\n",
       "    <tr style=\"text-align: right;\">\n",
       "      <th></th>\n",
       "      <th>Mouse ID</th>\n",
       "      <th>Drug Regimen</th>\n",
       "      <th>Sex</th>\n",
       "      <th>Age_months</th>\n",
       "      <th>Weight (g)</th>\n",
       "      <th>Timepoint</th>\n",
       "      <th>Tumor Volume (mm3)</th>\n",
       "      <th>Metastatic Sites</th>\n",
       "    </tr>\n",
       "  </thead>\n",
       "  <tbody>\n",
       "    <tr>\n",
       "      <th>0</th>\n",
       "      <td>k403</td>\n",
       "      <td>Ramicane</td>\n",
       "      <td>Male</td>\n",
       "      <td>21</td>\n",
       "      <td>16</td>\n",
       "      <td>0</td>\n",
       "      <td>45.000000</td>\n",
       "      <td>0</td>\n",
       "    </tr>\n",
       "    <tr>\n",
       "      <th>1</th>\n",
       "      <td>k403</td>\n",
       "      <td>Ramicane</td>\n",
       "      <td>Male</td>\n",
       "      <td>21</td>\n",
       "      <td>16</td>\n",
       "      <td>5</td>\n",
       "      <td>38.825898</td>\n",
       "      <td>0</td>\n",
       "    </tr>\n",
       "    <tr>\n",
       "      <th>2</th>\n",
       "      <td>k403</td>\n",
       "      <td>Ramicane</td>\n",
       "      <td>Male</td>\n",
       "      <td>21</td>\n",
       "      <td>16</td>\n",
       "      <td>10</td>\n",
       "      <td>35.014271</td>\n",
       "      <td>1</td>\n",
       "    </tr>\n",
       "    <tr>\n",
       "      <th>3</th>\n",
       "      <td>k403</td>\n",
       "      <td>Ramicane</td>\n",
       "      <td>Male</td>\n",
       "      <td>21</td>\n",
       "      <td>16</td>\n",
       "      <td>15</td>\n",
       "      <td>34.223992</td>\n",
       "      <td>1</td>\n",
       "    </tr>\n",
       "    <tr>\n",
       "      <th>4</th>\n",
       "      <td>k403</td>\n",
       "      <td>Ramicane</td>\n",
       "      <td>Male</td>\n",
       "      <td>21</td>\n",
       "      <td>16</td>\n",
       "      <td>20</td>\n",
       "      <td>32.997729</td>\n",
       "      <td>1</td>\n",
       "    </tr>\n",
       "  </tbody>\n",
       "</table>\n",
       "</div>"
      ],
      "text/plain": [
       "  Mouse ID Drug Regimen   Sex  Age_months  Weight (g)  Timepoint  \\\n",
       "0     k403     Ramicane  Male          21          16          0   \n",
       "1     k403     Ramicane  Male          21          16          5   \n",
       "2     k403     Ramicane  Male          21          16         10   \n",
       "3     k403     Ramicane  Male          21          16         15   \n",
       "4     k403     Ramicane  Male          21          16         20   \n",
       "\n",
       "   Tumor Volume (mm3)  Metastatic Sites  \n",
       "0           45.000000                 0  \n",
       "1           38.825898                 0  \n",
       "2           35.014271                 1  \n",
       "3           34.223992                 1  \n",
       "4           32.997729                 1  "
      ]
     },
     "execution_count": 3,
     "metadata": {},
     "output_type": "execute_result"
    }
   ],
   "source": [
    "# combine the DataFrames\n",
    "rawData_df = pd.merge(mouse_metadata_df, study_results_df, on='Mouse ID', how='outer')\n",
    "\n",
    "# preview the raw DataFrame\n",
    "rawData_df.head()"
   ]
  },
  {
   "cell_type": "markdown",
   "id": "f7f27fbb",
   "metadata": {},
   "source": [
    "## Prepare the Data"
   ]
  },
  {
   "cell_type": "code",
   "execution_count": 4,
   "id": "15dcaca5",
   "metadata": {},
   "outputs": [
    {
     "name": "stdout",
     "output_type": "stream",
     "text": [
      "The given dataset contains 249 unique instances of Mouse ID.\n"
     ]
    }
   ],
   "source": [
    "# display the count of unique Mouse IDs\n",
    "print(f\"The given dataset contains {rawData_df.nunique()['Mouse ID']} unique instances of Mouse ID.\")"
   ]
  },
  {
   "cell_type": "code",
   "execution_count": 5,
   "id": "cd4ff85b",
   "metadata": {},
   "outputs": [
    {
     "name": "stdout",
     "output_type": "stream",
     "text": [
      "The Mouse ID, g989, contains 2x duplicated Timepoint data.\n",
      "\n",
      "    Mouse ID Drug Regimen     Sex  Age_months  Weight (g)  Timepoint  \\\n",
      "908     g989     Propriva  Female          21          26          0   \n",
      "909     g989     Propriva  Female          21          26          0   \n",
      "910     g989     Propriva  Female          21          26          5   \n",
      "911     g989     Propriva  Female          21          26          5   \n",
      "912     g989     Propriva  Female          21          26         10   \n",
      "\n",
      "     Tumor Volume (mm3)  Metastatic Sites  \n",
      "908           45.000000                 0  \n",
      "909           45.000000                 0  \n",
      "910           48.786801                 0  \n",
      "911           47.570392                 0  \n",
      "912           51.745156                 0  \n"
     ]
    }
   ],
   "source": [
    "# check for duplicated timepoints\n",
    "\n",
    "# create a list of the unique Mouse IDs\n",
    "uniqueMice = rawData_df['Mouse ID'].unique().tolist()\n",
    "\n",
    "# create a list of the Mouse IDs\n",
    "allMice = rawData_df['Mouse ID'].tolist()\n",
    "\n",
    "# create a copy of the raw data\n",
    "cleanData_df = rawData_df.copy(deep=True)\n",
    "\n",
    "# iterate through the list\n",
    "for mouse in uniqueMice:\n",
    "    \n",
    "    # create a DataFrame from the raw data where the Mouse ID matches the iterator\n",
    "    mouse_df = rawData_df.loc[rawData_df['Mouse ID'] == mouse, :]\n",
    "    \n",
    "    # get the maximum count of repeated Timepoint values\n",
    "    timepoint_duplicate = max(mouse_df['Timepoint'].value_counts().tolist())\n",
    "    \n",
    "    # if the count is greater than 1, there is a duplicate\n",
    "    if timepoint_duplicate > 1:\n",
    "        print(f'The Mouse ID, {mouse}, contains {timepoint_duplicate}x duplicated Timepoint data.')\n",
    "        print()\n",
    "        print(mouse_df.head())\n",
    "        \n",
    "        # remove the affected Mouse ID from the raw data\n",
    "        cleanData_df = cleanData_df.loc[cleanData_df['Mouse ID'] != mouse, :]"
   ]
  },
  {
   "cell_type": "code",
   "execution_count": 6,
   "id": "7260a4e0",
   "metadata": {},
   "outputs": [
    {
     "name": "stdout",
     "output_type": "stream",
     "text": [
      "The cleaned dataset contains 248 unique instances of Mouse ID.\n"
     ]
    }
   ],
   "source": [
    "# display the cleaned count of unique Mouse IDs\n",
    "print(f\"The cleaned dataset contains {cleanData_df.nunique()['Mouse ID']} unique instances of Mouse ID.\")"
   ]
  },
  {
   "cell_type": "markdown",
   "id": "cb8a828d",
   "metadata": {},
   "source": [
    "## Generate Summary Statistics"
   ]
  },
  {
   "cell_type": "code",
   "execution_count": 7,
   "id": "cab839c3",
   "metadata": {},
   "outputs": [],
   "source": [
    "# create the statistical groups\n",
    "groupedData_mean = cleanData_df.groupby([\"Mouse ID\"]).mean()[\"Tumor Volume (mm3)\"].map(\"{:,.2f}\".format)\n",
    "groupedData_median = cleanData_df.groupby([\"Mouse ID\"]).median()[\"Tumor Volume (mm3)\"].map(\"{:,.2f}\".format)\n",
    "groupedData_std = cleanData_df.groupby([\"Mouse ID\"]).std()[\"Tumor Volume (mm3)\"].map(\"{:,.2f}\".format)\n",
    "groupedData_var = cleanData_df.groupby([\"Mouse ID\"]).var()[\"Tumor Volume (mm3)\"].map(\"{:,.2f}\".format)\n",
    "groupedData_sem = cleanData_df.groupby([\"Mouse ID\"]).sem()[\"Tumor Volume (mm3)\"].map(\"{:,.2f}\".format)"
   ]
  },
  {
   "cell_type": "code",
   "execution_count": 8,
   "id": "fcbd6618",
   "metadata": {},
   "outputs": [
    {
     "data": {
      "text/html": [
       "<div>\n",
       "<style scoped>\n",
       "    .dataframe tbody tr th:only-of-type {\n",
       "        vertical-align: middle;\n",
       "    }\n",
       "\n",
       "    .dataframe tbody tr th {\n",
       "        vertical-align: top;\n",
       "    }\n",
       "\n",
       "    .dataframe thead th {\n",
       "        text-align: right;\n",
       "    }\n",
       "</style>\n",
       "<table border=\"1\" class=\"dataframe\">\n",
       "  <thead>\n",
       "    <tr style=\"text-align: right;\">\n",
       "      <th></th>\n",
       "      <th>Mean</th>\n",
       "      <th>Median</th>\n",
       "      <th>St.Dev</th>\n",
       "      <th>Variance</th>\n",
       "      <th>SEM</th>\n",
       "    </tr>\n",
       "    <tr>\n",
       "      <th>Mouse ID</th>\n",
       "      <th></th>\n",
       "      <th></th>\n",
       "      <th></th>\n",
       "      <th></th>\n",
       "      <th></th>\n",
       "    </tr>\n",
       "  </thead>\n",
       "  <tbody>\n",
       "    <tr>\n",
       "      <th>a203</th>\n",
       "      <td>56.31</td>\n",
       "      <td>55.98</td>\n",
       "      <td>7.10</td>\n",
       "      <td>50.41</td>\n",
       "      <td>2.25</td>\n",
       "    </tr>\n",
       "    <tr>\n",
       "      <th>a251</th>\n",
       "      <td>55.24</td>\n",
       "      <td>55.94</td>\n",
       "      <td>7.19</td>\n",
       "      <td>51.74</td>\n",
       "      <td>2.27</td>\n",
       "    </tr>\n",
       "    <tr>\n",
       "      <th>a262</th>\n",
       "      <td>58.61</td>\n",
       "      <td>58.57</td>\n",
       "      <td>9.21</td>\n",
       "      <td>84.76</td>\n",
       "      <td>2.91</td>\n",
       "    </tr>\n",
       "    <tr>\n",
       "      <th>a275</th>\n",
       "      <td>52.77</td>\n",
       "      <td>52.04</td>\n",
       "      <td>6.03</td>\n",
       "      <td>36.32</td>\n",
       "      <td>1.91</td>\n",
       "    </tr>\n",
       "    <tr>\n",
       "      <th>a366</th>\n",
       "      <td>54.64</td>\n",
       "      <td>55.27</td>\n",
       "      <td>6.20</td>\n",
       "      <td>38.42</td>\n",
       "      <td>2.34</td>\n",
       "    </tr>\n",
       "    <tr>\n",
       "      <th>a401</th>\n",
       "      <td>54.00</td>\n",
       "      <td>53.21</td>\n",
       "      <td>7.23</td>\n",
       "      <td>52.26</td>\n",
       "      <td>2.29</td>\n",
       "    </tr>\n",
       "    <tr>\n",
       "      <th>a411</th>\n",
       "      <td>40.70</td>\n",
       "      <td>39.99</td>\n",
       "      <td>2.61</td>\n",
       "      <td>6.84</td>\n",
       "      <td>0.83</td>\n",
       "    </tr>\n",
       "    <tr>\n",
       "      <th>a444</th>\n",
       "      <td>43.06</td>\n",
       "      <td>42.89</td>\n",
       "      <td>1.12</td>\n",
       "      <td>1.26</td>\n",
       "      <td>0.35</td>\n",
       "    </tr>\n",
       "    <tr>\n",
       "      <th>a457</th>\n",
       "      <td>47.42</td>\n",
       "      <td>47.46</td>\n",
       "      <td>2.39</td>\n",
       "      <td>5.72</td>\n",
       "      <td>1.38</td>\n",
       "    </tr>\n",
       "    <tr>\n",
       "      <th>a492</th>\n",
       "      <td>53.18</td>\n",
       "      <td>54.19</td>\n",
       "      <td>5.12</td>\n",
       "      <td>26.24</td>\n",
       "      <td>1.62</td>\n",
       "    </tr>\n",
       "  </tbody>\n",
       "</table>\n",
       "</div>"
      ],
      "text/plain": [
       "           Mean Median St.Dev Variance   SEM\n",
       "Mouse ID                                    \n",
       "a203      56.31  55.98   7.10    50.41  2.25\n",
       "a251      55.24  55.94   7.19    51.74  2.27\n",
       "a262      58.61  58.57   9.21    84.76  2.91\n",
       "a275      52.77  52.04   6.03    36.32  1.91\n",
       "a366      54.64  55.27   6.20    38.42  2.34\n",
       "a401      54.00  53.21   7.23    52.26  2.29\n",
       "a411      40.70  39.99   2.61     6.84  0.83\n",
       "a444      43.06  42.89   1.12     1.26  0.35\n",
       "a457      47.42  47.46   2.39     5.72  1.38\n",
       "a492      53.18  54.19   5.12    26.24  1.62"
      ]
     },
     "execution_count": 8,
     "metadata": {},
     "output_type": "execute_result"
    }
   ],
   "source": [
    "# because the five stats groups were grouped by the same column, their index columns will be identical\n",
    "summary0_df = pd.DataFrame({\n",
    "            \"Mean\": groupedData_mean,\n",
    "            \"Median\": groupedData_median,\n",
    "            \"St.Dev\": groupedData_std,\n",
    "            \"Variance\": groupedData_var,\n",
    "            \"SEM\": groupedData_sem})\n",
    "\n",
    "# display 10 first entries of the first statistical summary DataFrame\n",
    "summary0_df.head(10)"
   ]
  },
  {
   "cell_type": "code",
   "execution_count": 9,
   "id": "7adfe349",
   "metadata": {},
   "outputs": [
    {
     "data": {
      "text/html": [
       "<div>\n",
       "<style scoped>\n",
       "    .dataframe tbody tr th:only-of-type {\n",
       "        vertical-align: middle;\n",
       "    }\n",
       "\n",
       "    .dataframe tbody tr th {\n",
       "        vertical-align: top;\n",
       "    }\n",
       "\n",
       "    .dataframe thead th {\n",
       "        text-align: right;\n",
       "    }\n",
       "</style>\n",
       "<table border=\"1\" class=\"dataframe\">\n",
       "  <thead>\n",
       "    <tr style=\"text-align: right;\">\n",
       "      <th></th>\n",
       "      <th>Tumor Volume (mm3)</th>\n",
       "    </tr>\n",
       "  </thead>\n",
       "  <tbody>\n",
       "    <tr>\n",
       "      <th>mean</th>\n",
       "      <td>50.44</td>\n",
       "    </tr>\n",
       "    <tr>\n",
       "      <th>median</th>\n",
       "      <td>48.93</td>\n",
       "    </tr>\n",
       "    <tr>\n",
       "      <th>std</th>\n",
       "      <td>8.91</td>\n",
       "    </tr>\n",
       "    <tr>\n",
       "      <th>var</th>\n",
       "      <td>79.46</td>\n",
       "    </tr>\n",
       "    <tr>\n",
       "      <th>sem</th>\n",
       "      <td>0.21</td>\n",
       "    </tr>\n",
       "  </tbody>\n",
       "</table>\n",
       "</div>"
      ],
      "text/plain": [
       "        Tumor Volume (mm3)\n",
       "mean                 50.44\n",
       "median               48.93\n",
       "std                   8.91\n",
       "var                  79.46\n",
       "sem                   0.21"
      ]
     },
     "execution_count": 9,
     "metadata": {},
     "output_type": "execute_result"
    }
   ],
   "source": [
    "# recreate the 'summary0_df' DataFrame using the pd.DataFrame.agg method in a single line of code\n",
    "summary1_df = cleanData_df.agg({\"Tumor Volume (mm3)\": [\"mean\", \"median\", \"std\", \"var\", \"sem\"]}).round(2)\n",
    "summary1_df.head()"
   ]
  },
  {
   "cell_type": "markdown",
   "id": "d45fb42d",
   "metadata": {},
   "source": [
    "## Create Bar Charts and a Pie Chart"
   ]
  },
  {
   "cell_type": "code",
   "execution_count": 10,
   "id": "3e159c19",
   "metadata": {},
   "outputs": [],
   "source": [
    "timePoints_df = cleanData_df[\"Timepoint\"].value_counts()"
   ]
  },
  {
   "cell_type": "code",
   "execution_count": 11,
   "id": "4751a9f8",
   "metadata": {},
   "outputs": [
    {
     "data": {
      "image/png": "[encoded data removed]",
      "text/plain": [
       "<Figure size 720x432 with 1 Axes>"
      ]
     },
     "metadata": {
      "needs_background": "light"
     },
     "output_type": "display_data"
    }
   ],
   "source": [
    "# create one bar chart using DataFrame.plot\n",
    "figure1 = timePoints_df.plot(\n",
    "                        kind=\"bar\",\n",
    "                        facecolor=\"red\",\n",
    "                        figsize=(10,6),\n",
    "                        width=0.5,\n",
    "                        rot=0,\n",
    "                        title=\"Timepoint Counts for All Mice\",\n",
    "                        xlabel=\"Timepoint\",\n",
    "                        ylabel=\"Count\")\n",
    "plt.show()"
   ]
  },
  {
   "cell_type": "code",
   "execution_count": 12,
   "id": "4bd51d69",
   "metadata": {},
   "outputs": [
    {
     "data": {
      "image/png": "[encoded data removed]",
      "text/plain": [
       "<Figure size 720x432 with 1 Axes>"
      ]
     },
     "metadata": {
      "needs_background": "light"
     },
     "output_type": "display_data"
    }
   ],
   "source": [
    "# create one bar chart using plt.bar\n",
    "plt.figure(figsize=(10,6))\n",
    "plt.bar(timePoints_df.keys(), timePoints_df.tolist(), color=\"red\", align=\"center\", width=3)\n",
    "plt.xticks([value for value in timePoints_df.keys()])\n",
    "plt.title(\"Timepoint Counts for All Mice\")\n",
    "plt.xlabel(\"Timepoint\")\n",
    "plt.ylabel(\"Count\")\n",
    "plt.show()"
   ]
  },
  {
   "cell_type": "code",
   "execution_count": 13,
   "id": "f04981c2",
   "metadata": {},
   "outputs": [],
   "source": [
    "mouseSexes_df = cleanData_df['Sex'].value_counts()"
   ]
  },
  {
   "cell_type": "code",
   "execution_count": 14,
   "id": "88c15de0",
   "metadata": {},
   "outputs": [
    {
     "data": {
      "image/png": "[encoded data removed]",
      "text/plain": [
       "<Figure size 576x576 with 1 Axes>"
      ]
     },
     "metadata": {},
     "output_type": "display_data"
    }
   ],
   "source": [
    "# create one pie chart using DataFrame.plot\n",
    "figure2 = mouseSexes_df.plot(\n",
    "                        kind=\"pie\",\n",
    "                        explode=[0, 0.1],\n",
    "                        colors=[\"red\", \"blue\"],\n",
    "                        shadow=True,\n",
    "                        title=\"Distribution of Mouse Sex\",\n",
    "                        figsize=(8,8))\n",
    "plt.show()"
   ]
  },
  {
   "cell_type": "code",
   "execution_count": 15,
   "id": "06407e1f",
   "metadata": {},
   "outputs": [
    {
     "data": {
      "image/png": "[encoded data removed]",
      "text/plain": [
       "<Figure size 576x576 with 1 Axes>"
      ]
     },
     "metadata": {},
     "output_type": "display_data"
    }
   ],
   "source": [
    "# create one pie chart using plt.pie\n",
    "plt.figure(figsize=(8,8))\n",
    "plt.pie(mouseSexes_df.tolist(), explode=[0, 0.1], labels=mouseSexes_df.keys(), colors=[\"red\", \"blue\"], shadow=True)\n",
    "plt.title(\"Distribution of Mouse Sex\")\n",
    "plt.ylabel(\"Sex\")\n",
    "plt.show()"
   ]
  },
  {
   "cell_type": "markdown",
   "id": "e571ea45",
   "metadata": {},
   "source": [
    "## Calculate Quartiles, Find Outliers, and Create a Box Plot"
   ]
  },
  {
   "cell_type": "code",
   "execution_count": null,
   "id": "125feb2a",
   "metadata": {},
   "outputs": [],
   "source": [
    "treatments = [\"Capomulin\", \"Ramicane\", \"Infobinol\", \"Ceftamin\"]\n"
   ]
  }
 ],
 "metadata": {
  "kernelspec": {
   "display_name": "PythonData38",
   "language": "python",
   "name": "pythondata38"
  },
  "language_info": {
   "codemirror_mode": {
    "name": "ipython",
    "version": 3
   },
   "file_extension": ".py",
   "mimetype": "text/x-python",
   "name": "python",
   "nbconvert_exporter": "python",
   "pygments_lexer": "ipython3",
   "version": "3.9.7"
  }
 },
 "nbformat": 4,
 "nbformat_minor": 5
}
